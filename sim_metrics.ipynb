{
 "cells": [
  {
   "cell_type": "markdown",
   "metadata": {},
   "source": [
    "## Notebook containing distance & similarity functions for kNN"
   ]
  },
  {
   "cell_type": "code",
   "execution_count": 1,
   "metadata": {},
   "outputs": [],
   "source": [
    "import numpy as np\n",
    "\n",
    "from numpy.linalg import norm"
   ]
  },
  {
   "cell_type": "code",
   "execution_count": 2,
   "metadata": {},
   "outputs": [],
   "source": [
    "# similarity metrics\n",
    "def euclidean(instance1, instance2):\n",
    "    '''\n",
    "    Calculates euclidean distance between two instances of data\n",
    "    instance1 will be a List of Float values\n",
    "    instance2 will be a List of Float values\n",
    "    length will be an Integer denoting the length of the Lists\n",
    "    '''\n",
    "    distance = 0\n",
    "    for val1, val2 in zip(instance1, instance2):\n",
    "        distance += pow((val1 - val2), 2)\n",
    "\n",
    "    distance = pow(distance, 1/2)\n",
    "\n",
    "    return 1 / (1 + distance)\n",
    "\n",
    "\n",
    "def manhattan(instance1, instance2):\n",
    "    '''\n",
    "    Calculates manhattan distance between two instances of data\n",
    "    instance1 will be a List of Float values\n",
    "    instance2 will be a List of Float values\n",
    "    length will be an Integer denoting the length of the Lists\n",
    "    '''\n",
    "    distance = 0\n",
    "    for val1, val2 in zip(instance1, instance2):\n",
    "        distance += abs(val1 - val2)\n",
    "\n",
    "    return 1 / (1 + distance)\n",
    "\n",
    "def cosine_similarity(instance1, instance2):\n",
    "    return np.dot(instance1, instance2)/(norm(instance1)*norm(instance2))\n",
    "\n",
    "\n",
    "def dot_product(instance1, instance2):\n",
    "    '''\n",
    "    Calculates dot product between two instances \n",
    "    instance1 will be a List of Float values\n",
    "    instance2 will be a List of Float values\n",
    "    length will be an Integer denoting the length of the Lists\n",
    "    '''\n",
    "    return np.dot(instance1, instance2)"
   ]
  }
 ],
 "metadata": {
  "kernelspec": {
   "display_name": "Python 3",
   "language": "python",
   "name": "python3"
  },
  "language_info": {
   "codemirror_mode": {
    "name": "ipython",
    "version": 3
   },
   "file_extension": ".py",
   "mimetype": "text/x-python",
   "name": "python",
   "nbconvert_exporter": "python",
   "pygments_lexer": "ipython3",
   "version": "3.7.3"
  }
 },
 "nbformat": 4,
 "nbformat_minor": 2
}
