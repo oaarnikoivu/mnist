{
 "cells": [
  {
   "cell_type": "code",
   "execution_count": 1,
   "metadata": {},
   "outputs": [],
   "source": [
    "import scipy\n",
    "import glob\n",
    "import imageio\n",
    "import os\n",
    "import numpy as np\n",
    "\n",
    "from scipy import ndimage"
   ]
  },
  {
   "cell_type": "markdown",
   "metadata": {},
   "source": [
    "## Global variables"
   ]
  },
  {
   "cell_type": "code",
   "execution_count": 2,
   "metadata": {},
   "outputs": [],
   "source": [
    "# Global data\n",
    "train_file = \"mnist_train.csv\"\n",
    "test_file = \"mnist_test.csv\"\n",
    "\n",
    "# number of input, hidden and output nodes\n",
    "input_nodes = 784\n",
    "hidden_nodes = 200\n",
    "output_nodes = 10\n",
    "\n",
    "learning_rate = 0.3\n",
    "batch_size = 1\n",
    "\n",
    "epochs = 10"
   ]
  },
  {
   "cell_type": "markdown",
   "metadata": {},
   "source": [
    "## Rotate image "
   ]
  },
  {
   "cell_type": "code",
   "execution_count": 3,
   "metadata": {},
   "outputs": [],
   "source": [
    "def rotate_image(inputs, degree):\n",
    "    # create rotated variations\n",
    "    # rotated anticlockwise by x degrees\n",
    "    inputs_plusx_img = scipy.ndimage.interpolation.rotate(\n",
    "        inputs.reshape(28, 28), degree, cval=0.01, order=1, reshape=False)\n",
    "    new_inputs1 = inputs_plusx_img.reshape(784)\n",
    "    # rotated clockwise by x degrees\n",
    "    inputs_minusx_img = scipy.ndimage.interpolation.rotate(\n",
    "        inputs.reshape(28, 28), -degree, cval=0.01, order=1, reshape=False)\n",
    "    new_inputs2 = inputs_minusx_img.reshape(784)\n",
    "\n",
    "    return (new_inputs1, new_inputs2)"
   ]
  },
  {
   "cell_type": "markdown",
   "metadata": {},
   "source": [
    "# Load hand-written digits"
   ]
  },
  {
   "cell_type": "code",
   "execution_count": 4,
   "metadata": {},
   "outputs": [],
   "source": [
    "def get_my_test_data(folder):\n",
    "    X = []\n",
    "    y = []\n",
    "\n",
    "    folder_expr = folder + '/*.png'\n",
    "    print(folder_expr)\n",
    "\n",
    "    for image_file_name in glob.glob(folder_expr):\n",
    "        print(\"Loading... \", image_file_name)\n",
    "\n",
    "        img_array = imageio.imread(image_file_name, as_gray=True)\n",
    "\n",
    "        img_data = 255.0 - img_array.reshape(784)\n",
    "\n",
    "        inputs = (img_data / 255.0 * 0.99) + 0.01\n",
    "\n",
    "        digit_class = int(image_file_name[-5:-4])\n",
    "\n",
    "        X.insert(len(X), inputs)\n",
    "        y.insert(len(y), digit_class)\n",
    "\n",
    "    return (X, y)"
   ]
  },
  {
   "cell_type": "markdown",
   "metadata": {},
   "source": [
    "## prepare image test data for ANN"
   ]
  },
  {
   "cell_type": "code",
   "execution_count": 5,
   "metadata": {},
   "outputs": [],
   "source": [
    "def map_target_to_output_layer(instances, targets):\n",
    "    X = []\n",
    "    Y = []\n",
    "\n",
    "    for inputs, target in zip(instances, targets):\n",
    "        y_vec = np.zeros(output_nodes) + 0.01\n",
    "        y_vec[int(target)] = 0.99\n",
    "\n",
    "        X.insert(len(X), inputs)\n",
    "        Y.insert(len(Y), y_vec)\n",
    "\n",
    "    return (X, Y)"
   ]
  }
 ],
 "metadata": {
  "kernelspec": {
   "display_name": "Python 3",
   "language": "python",
   "name": "python3"
  },
  "language_info": {
   "codemirror_mode": {
    "name": "ipython",
    "version": 3
   },
   "file_extension": ".py",
   "mimetype": "text/x-python",
   "name": "python",
   "nbconvert_exporter": "python",
   "pygments_lexer": "ipython3",
   "version": "3.7.3"
  }
 },
 "nbformat": 4,
 "nbformat_minor": 2
}
