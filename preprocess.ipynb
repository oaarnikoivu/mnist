{
 "cells": [
  {
   "cell_type": "markdown",
   "metadata": {},
   "source": [
    "## Custom preprocessing class containing the necessary preprocessing functions for both the ANN and kNN"
   ]
  },
  {
   "cell_type": "code",
   "execution_count": 8,
   "metadata": {},
   "outputs": [],
   "source": [
    "import numpy as np\n",
    "\n",
    "%run utils.ipynb"
   ]
  },
  {
   "cell_type": "code",
   "execution_count": 9,
   "metadata": {},
   "outputs": [],
   "source": [
    "class Preprocess:\n",
    "    def __init__(self, is_neural):\n",
    "        self.is_neural = is_neural\n",
    "\n",
    "    def generate_mini_data(self, data, amount):\n",
    "        mini_data = np.random.choice(data, amount, replace=False)\n",
    "        return mini_data\n",
    "\n",
    "    def preprocess_data(self, Xy):\n",
    "        X = []\n",
    "        y = []\n",
    "        for instance in Xy:\n",
    "            all_values = instance.split(',')\n",
    "\n",
    "            inputs = (np.asfarray(all_values[1:]) / 255.0 * 0.99) + 0.01\n",
    "\n",
    "            if self.is_neural:\n",
    "                targets = np.zeros(output_nodes) + 0.01\n",
    "                targets[int(all_values[0])] = 0.99\n",
    "            else:\n",
    "                targets = int(all_values[0])\n",
    "\n",
    "            X.insert(len(X), inputs)\n",
    "            y.insert(len(y), targets)\n",
    "\n",
    "        return (X, y)"
   ]
  },
  {
   "cell_type": "code",
   "execution_count": null,
   "metadata": {},
   "outputs": [],
   "source": []
  }
 ],
 "metadata": {
  "kernelspec": {
   "display_name": "Python 3",
   "language": "python",
   "name": "python3"
  },
  "language_info": {
   "codemirror_mode": {
    "name": "ipython",
    "version": 3
   },
   "file_extension": ".py",
   "mimetype": "text/x-python",
   "name": "python",
   "nbconvert_exporter": "python",
   "pygments_lexer": "ipython3",
   "version": "3.7.3"
  }
 },
 "nbformat": 4,
 "nbformat_minor": 2
}
