{
 "cells": [
  {
   "cell_type": "markdown",
   "metadata": {},
   "source": [
    "## Imports\n",
    "\n",
    "- augment.ipynb is a class that contains functions to help with image augmentation"
   ]
  },
  {
   "cell_type": "code",
   "execution_count": 31,
   "metadata": {},
   "outputs": [],
   "source": [
    "%matplotlib inline\n",
    "import numpy as np\n",
    "import random\n",
    "import time\n",
    "import matplotlib.pyplot as plt\n",
    "\n",
    "%run augment.ipynb\n",
    "%run preprocess.ipynb"
   ]
  },
  {
   "cell_type": "markdown",
   "metadata": {},
   "source": [
    "## General"
   ]
  },
  {
   "cell_type": "code",
   "execution_count": 32,
   "metadata": {},
   "outputs": [],
   "source": [
    "seed = 7\n",
    "np.random.seed(seed)"
   ]
  },
  {
   "cell_type": "code",
   "execution_count": 33,
   "metadata": {},
   "outputs": [],
   "source": [
    "train_data_file = open(train_file, 'r')\n",
    "train_data_list = train_data_file.readlines()  # read all lines into memory\n",
    "train_data_file.close()\n",
    "\n",
    "test_data_file = open(test_file, 'r')  # read the file\n",
    "test_data_list = test_data_file.readlines()\n",
    "test_data_file.close()"
   ]
  },
  {
   "cell_type": "code",
   "execution_count": 34,
   "metadata": {},
   "outputs": [],
   "source": [
    "## Amount of data to test on\n",
    "train_amount = 1500\n",
    "\n",
    "ann_pre = Preprocess(is_neural=True) ## preprocssing object for neural network\n",
    "knn_pre = Preprocess(is_neural=False) ## preprocessing object for k-NN"
   ]
  },
  {
   "cell_type": "markdown",
   "metadata": {},
   "source": [
    "## ANN Data Preprocessing"
   ]
  },
  {
   "cell_type": "code",
   "execution_count": 35,
   "metadata": {},
   "outputs": [
    {
     "name": "stdout",
     "output_type": "stream",
     "text": [
      "1500\n",
      "10000\n"
     ]
    }
   ],
   "source": [
    "mini_training_data = ann_pre.generate_mini_data(train_data_list, train_amount)\n",
    "\n",
    "X_train, y_train = ann_pre.preprocess_data(mini_training_data)\n",
    "X_test, y_test = ann_pre.preprocess_data(test_data_list)\n",
    "\n",
    "print(len(X_train))\n",
    "print(len(X_test))"
   ]
  },
  {
   "cell_type": "markdown",
   "metadata": {},
   "source": [
    "Here we create an instance of the AugmentImages class."
   ]
  },
  {
   "cell_type": "code",
   "execution_count": 36,
   "metadata": {},
   "outputs": [],
   "source": [
    "a_nn = AugmentImages(is_neural=True)"
   ]
  },
  {
   "cell_type": "markdown",
   "metadata": {},
   "source": [
    "### We use the 'AugmentImages' class to apply image rotation to the training data"
   ]
  },
  {
   "cell_type": "code",
   "execution_count": 37,
   "metadata": {},
   "outputs": [],
   "source": [
    "training_data = a_nn.augment_data(X_train, y_train, rotation=15)"
   ]
  },
  {
   "cell_type": "code",
   "execution_count": 38,
   "metadata": {},
   "outputs": [
    {
     "name": "stdout",
     "output_type": "stream",
     "text": [
      "3000\n"
     ]
    }
   ],
   "source": [
    "images = training_data['images']\n",
    "labels = training_data['labels']\n",
    "\n",
    "for num in range(0, len(images)):\n",
    "    X_train.append(images[num])\n",
    "\n",
    "for num in range(0, len(labels)):\n",
    "    y_train.append(labels[num])\n",
    "\n",
    "# shuffle training values and labels while still keeping order\n",
    "X_train, y_train = a_nn.shuffle_data(X_train, y_train, 3000)\n",
    "    \n",
    "print(len(X_train))"
   ]
  },
  {
   "cell_type": "markdown",
   "metadata": {},
   "source": [
    "## Visualize change in images"
   ]
  },
  {
   "cell_type": "code",
   "execution_count": 39,
   "metadata": {},
   "outputs": [
    {
     "data": {
      "image/png": "[encoded data removed]",
      "text/plain": [
       "<Figure size 432x288 with 9 Axes>"
      ]
     },
     "metadata": {
      "needs_background": "light"
     },
     "output_type": "display_data"
    }
   ],
   "source": [
    "for i in range(0,9):\n",
    "    val = random.randint(0, len(X_train))\n",
    "    plt.subplot(330 + 1 + i)\n",
    "    plt.imshow(np.asfarray(X_train[val].flatten().reshape((28,28))), cmap='Greys', interpolation='None')\n",
    "\n",
    "plt.tight_layout()\n",
    "\n",
    "#plt.savefig('rotated-images.png', dpi=300)\n",
    "plt.show()"
   ]
  },
  {
   "cell_type": "markdown",
   "metadata": {},
   "source": [
    "We see that the image rotation is applied to some of the existing images. "
   ]
  },
  {
   "cell_type": "markdown",
   "metadata": {},
   "source": [
    "## Test model accuracy"
   ]
  },
  {
   "cell_type": "markdown",
   "metadata": {},
   "source": [
    "We train our model using the optimal hyperparameters obtained from Task1.\n",
    "\n",
    "- 50 epochs\n",
    "- 0.3 learning rate\n",
    "- 1 batch size"
   ]
  },
  {
   "cell_type": "code",
   "execution_count": 40,
   "metadata": {},
   "outputs": [
    {
     "name": "stdout",
     "output_type": "stream",
     "text": [
      "Training epoch#:  0\n",
      "errors (SSE):  [1033.50727064]\n",
      "Training epoch#:  1\n",
      "errors (SSE):  [455.94823926]\n",
      "Training epoch#:  2\n",
      "errors (SSE):  [273.45712084]\n",
      "Training epoch#:  3\n",
      "errors (SSE):  [167.38556896]\n",
      "Training epoch#:  4\n",
      "errors (SSE):  [103.12157062]\n",
      "Training epoch#:  5\n",
      "errors (SSE):  [64.57781133]\n",
      "Training epoch#:  6\n",
      "errors (SSE):  [44.26421381]\n",
      "Training epoch#:  7\n",
      "errors (SSE):  [32.98567268]\n",
      "Training epoch#:  8\n",
      "errors (SSE):  [25.67244854]\n",
      "Training epoch#:  9\n",
      "errors (SSE):  [20.2366036]\n",
      "Training epoch#:  10\n",
      "errors (SSE):  [16.72208691]\n",
      "Training epoch#:  11\n",
      "errors (SSE):  [14.1966218]\n",
      "Training epoch#:  12\n",
      "errors (SSE):  [12.43098677]\n",
      "Training epoch#:  13\n",
      "errors (SSE):  [11.14195545]\n",
      "Training epoch#:  14\n",
      "errors (SSE):  [10.15498518]\n",
      "Training epoch#:  15\n",
      "errors (SSE):  [9.35814358]\n",
      "Training epoch#:  16\n",
      "errors (SSE):  [8.67191427]\n",
      "Training epoch#:  17\n",
      "errors (SSE):  [8.08305024]\n",
      "Training epoch#:  18\n",
      "errors (SSE):  [7.57141546]\n",
      "Training epoch#:  19\n",
      "errors (SSE):  [7.13762155]\n",
      "Training epoch#:  20\n",
      "errors (SSE):  [6.77667808]\n",
      "Training epoch#:  21\n",
      "errors (SSE):  [6.48203362]\n",
      "Training epoch#:  22\n",
      "errors (SSE):  [6.27104081]\n",
      "Training epoch#:  23\n",
      "errors (SSE):  [6.15002415]\n",
      "Training epoch#:  24\n",
      "errors (SSE):  [6.0340149]\n",
      "Training epoch#:  25\n",
      "errors (SSE):  [5.74730002]\n",
      "Training epoch#:  26\n",
      "errors (SSE):  [5.52026904]\n",
      "Training epoch#:  27\n",
      "errors (SSE):  [5.33868233]\n",
      "Training epoch#:  28\n",
      "errors (SSE):  [5.18098993]\n",
      "Training epoch#:  29\n",
      "errors (SSE):  [5.03583707]\n",
      "Training epoch#:  30\n",
      "errors (SSE):  [4.90779418]\n",
      "Training epoch#:  31\n",
      "errors (SSE):  [4.80190571]\n",
      "Training epoch#:  32\n",
      "errors (SSE):  [4.71564858]\n",
      "Training epoch#:  33\n",
      "errors (SSE):  [4.64550913]\n",
      "Training epoch#:  34\n",
      "errors (SSE):  [4.58490157]\n",
      "Training epoch#:  35\n",
      "errors (SSE):  [4.4775652]\n",
      "Training epoch#:  36\n",
      "errors (SSE):  [4.3538305]\n",
      "Training epoch#:  37\n",
      "errors (SSE):  [4.27256696]\n",
      "Training epoch#:  38\n",
      "errors (SSE):  [4.20177804]\n",
      "Training epoch#:  39\n",
      "errors (SSE):  [4.12660534]\n",
      "Training epoch#:  40\n",
      "errors (SSE):  [4.04263664]\n",
      "Training epoch#:  41\n",
      "errors (SSE):  [3.95532129]\n",
      "Training epoch#:  42\n",
      "errors (SSE):  [3.87211944]\n",
      "Training epoch#:  43\n",
      "errors (SSE):  [3.79606416]\n",
      "Training epoch#:  44\n",
      "errors (SSE):  [3.72026103]\n",
      "Training epoch#:  45\n",
      "errors (SSE):  [3.64949555]\n",
      "Training epoch#:  46\n",
      "errors (SSE):  [3.58552667]\n",
      "Training epoch#:  47\n",
      "errors (SSE):  [3.52724763]\n",
      "Training epoch#:  48\n",
      "errors (SSE):  [3.47246627]\n",
      "Training epoch#:  49\n",
      "errors (SSE):  [3.41785975]\n"
     ]
    }
   ],
   "source": [
    "n = NeuralNetwork(epochs=50, learningrate=0.3, batch_size=1)\n",
    "n.train(X_train, y_train)"
   ]
  },
  {
   "cell_type": "code",
   "execution_count": 41,
   "metadata": {},
   "outputs": [
    {
     "data": {
      "text/plain": [
       "93.04"
      ]
     },
     "execution_count": 41,
     "metadata": {},
     "output_type": "execute_result"
    }
   ],
   "source": [
    "n.test(X_test, y_test)\n",
    "acc = n.evaluate(n.results)\n",
    "acc"
   ]
  },
  {
   "cell_type": "markdown",
   "metadata": {},
   "source": [
    "## Test accuracy on multiple rotations"
   ]
  },
  {
   "cell_type": "markdown",
   "metadata": {},
   "source": [
    "Here we assess the impact on accuracy by increasing rotation values. <br>\n",
    "\n",
    "We train each model using the optimal hyperparameters obtained from Task1.\n",
    "\n",
    "- 50 epochs\n",
    "- 0.3 learning rate\n",
    "- 1 batch size"
   ]
  },
  {
   "cell_type": "code",
   "execution_count": 17,
   "metadata": {},
   "outputs": [
    {
     "name": "stdout",
     "output_type": "stream",
     "text": [
      "Shuffling data...\n",
      "Training epoch#:  0\n",
      "errors (SSE):  [637.77118903]\n",
      "Training epoch#:  1\n",
      "errors (SSE):  [305.03729148]\n",
      "Training epoch#:  2\n",
      "errors (SSE):  [190.00511517]\n",
      "Training epoch#:  3\n",
      "errors (SSE):  [120.57758058]\n",
      "Training epoch#:  4\n",
      "errors (SSE):  [74.98142377]\n",
      "Training epoch#:  5\n",
      "errors (SSE):  [48.84676442]\n",
      "Training epoch#:  6\n",
      "errors (SSE):  [32.76818002]\n",
      "Training epoch#:  7\n",
      "errors (SSE):  [22.70667336]\n",
      "Training epoch#:  8\n",
      "errors (SSE):  [16.5154269]\n",
      "Training epoch#:  9\n",
      "errors (SSE):  [12.50062412]\n",
      "Training epoch#:  10\n",
      "errors (SSE):  [10.13899351]\n",
      "Training epoch#:  11\n",
      "errors (SSE):  [8.54331231]\n",
      "Training epoch#:  12\n",
      "errors (SSE):  [7.37920548]\n",
      "Training epoch#:  13\n",
      "errors (SSE):  [6.50608289]\n",
      "Training epoch#:  14\n",
      "errors (SSE):  [5.83573309]\n",
      "Training epoch#:  15\n",
      "errors (SSE):  [5.29599305]\n",
      "Training epoch#:  16\n",
      "errors (SSE):  [4.85167191]\n",
      "Training epoch#:  17\n",
      "errors (SSE):  [4.48961644]\n",
      "Training epoch#:  18\n",
      "errors (SSE):  [4.18473345]\n",
      "Training epoch#:  19\n",
      "errors (SSE):  [3.9032942]\n",
      "Training epoch#:  20\n",
      "errors (SSE):  [3.65339846]\n",
      "Training epoch#:  21\n",
      "errors (SSE):  [3.43284572]\n",
      "Training epoch#:  22\n",
      "errors (SSE):  [3.23743736]\n",
      "Training epoch#:  23\n",
      "errors (SSE):  [3.06286533]\n",
      "Training epoch#:  24\n",
      "errors (SSE):  [2.90416824]\n",
      "Training epoch#:  25\n",
      "errors (SSE):  [2.76087333]\n",
      "Training epoch#:  26\n",
      "errors (SSE):  [2.63145653]\n",
      "Training epoch#:  27\n",
      "errors (SSE):  [2.51278147]\n",
      "Training epoch#:  28\n",
      "errors (SSE):  [2.40281205]\n",
      "Training epoch#:  29\n",
      "errors (SSE):  [2.30200283]\n",
      "Training epoch#:  30\n",
      "errors (SSE):  [2.20965307]\n",
      "Training epoch#:  31\n",
      "errors (SSE):  [2.1250086]\n",
      "Training epoch#:  32\n",
      "errors (SSE):  [2.04715329]\n",
      "Training epoch#:  33\n",
      "errors (SSE):  [1.9751414]\n",
      "Training epoch#:  34\n",
      "errors (SSE):  [1.90845197]\n",
      "Training epoch#:  35\n",
      "errors (SSE):  [1.8466004]\n",
      "Training epoch#:  36\n",
      "errors (SSE):  [1.78901426]\n",
      "Training epoch#:  37\n",
      "errors (SSE):  [1.73511559]\n",
      "Training epoch#:  38\n",
      "errors (SSE):  [1.68448359]\n",
      "Training epoch#:  39\n",
      "errors (SSE):  [1.63697189]\n",
      "Training epoch#:  40\n",
      "errors (SSE):  [1.59263717]\n",
      "Training epoch#:  41\n",
      "errors (SSE):  [1.55150626]\n",
      "Training epoch#:  42\n",
      "errors (SSE):  [1.51347416]\n",
      "Training epoch#:  43\n",
      "errors (SSE):  [1.47827809]\n",
      "Training epoch#:  44\n",
      "errors (SSE):  [1.44553558]\n",
      "Training epoch#:  45\n",
      "errors (SSE):  [1.41487521]\n",
      "Training epoch#:  46\n",
      "errors (SSE):  [1.38605068]\n",
      "Training epoch#:  47\n",
      "errors (SSE):  [1.35890379]\n",
      "Training epoch#:  48\n",
      "errors (SSE):  [1.33327357]\n",
      "Training epoch#:  49\n",
      "errors (SSE):  [1.30902763]\n",
      "Shuffling data...\n",
      "Training epoch#:  0\n",
      "errors (SSE):  [833.88873421]\n",
      "Training epoch#:  1\n",
      "errors (SSE):  [441.66834614]\n",
      "Training epoch#:  2\n",
      "errors (SSE):  [279.86417371]\n",
      "Training epoch#:  3\n",
      "errors (SSE):  [175.83518692]\n",
      "Training epoch#:  4\n",
      "errors (SSE):  [109.37578025]\n",
      "Training epoch#:  5\n",
      "errors (SSE):  [68.84940012]\n",
      "Training epoch#:  6\n",
      "errors (SSE):  [45.15469969]\n",
      "Training epoch#:  7\n",
      "errors (SSE):  [31.65648453]\n",
      "Training epoch#:  8\n",
      "errors (SSE):  [22.6906419]\n",
      "Training epoch#:  9\n",
      "errors (SSE):  [17.62737688]\n",
      "Training epoch#:  10\n",
      "errors (SSE):  [14.16746491]\n",
      "Training epoch#:  11\n",
      "errors (SSE):  [11.66676336]\n",
      "Training epoch#:  12\n",
      "errors (SSE):  [9.80979482]\n",
      "Training epoch#:  13\n",
      "errors (SSE):  [8.46724823]\n",
      "Training epoch#:  14\n",
      "errors (SSE):  [7.52993537]\n",
      "Training epoch#:  15\n",
      "errors (SSE):  [6.68962994]\n",
      "Training epoch#:  16\n",
      "errors (SSE):  [5.95509289]\n",
      "Training epoch#:  17\n",
      "errors (SSE):  [5.40074162]\n",
      "Training epoch#:  18\n",
      "errors (SSE):  [4.9436065]\n",
      "Training epoch#:  19\n",
      "errors (SSE):  [4.56371453]\n",
      "Training epoch#:  20\n",
      "errors (SSE):  [4.22980549]\n",
      "Training epoch#:  21\n",
      "errors (SSE):  [3.9320441]\n",
      "Training epoch#:  22\n",
      "errors (SSE):  [3.67918427]\n",
      "Training epoch#:  23\n",
      "errors (SSE):  [3.46703916]\n",
      "Training epoch#:  24\n",
      "errors (SSE):  [3.28461633]\n",
      "Training epoch#:  25\n",
      "errors (SSE):  [3.1215402]\n",
      "Training epoch#:  26\n",
      "errors (SSE):  [2.97298514]\n",
      "Training epoch#:  27\n",
      "errors (SSE):  [2.83719339]\n",
      "Training epoch#:  28\n",
      "errors (SSE):  [2.71292756]\n",
      "Training epoch#:  29\n",
      "errors (SSE):  [2.60107413]\n",
      "Training epoch#:  30\n",
      "errors (SSE):  [2.50338393]\n",
      "Training epoch#:  31\n",
      "errors (SSE):  [2.42156831]\n",
      "Training epoch#:  32\n",
      "errors (SSE):  [2.35173884]\n",
      "Training epoch#:  33\n",
      "errors (SSE):  [2.28611717]\n",
      "Training epoch#:  34\n",
      "errors (SSE):  [2.22488039]\n",
      "Training epoch#:  35\n",
      "errors (SSE):  [2.16941356]\n",
      "Training epoch#:  36\n",
      "errors (SSE):  [2.11467612]\n",
      "Training epoch#:  37\n",
      "errors (SSE):  [2.05671062]\n",
      "Training epoch#:  38\n",
      "errors (SSE):  [1.99722725]\n",
      "Training epoch#:  39\n",
      "errors (SSE):  [1.93732142]\n",
      "Training epoch#:  40\n",
      "errors (SSE):  [1.87998492]\n",
      "Training epoch#:  41\n",
      "errors (SSE):  [1.82601932]\n",
      "Training epoch#:  42\n",
      "errors (SSE):  [1.77515478]\n",
      "Training epoch#:  43\n",
      "errors (SSE):  [1.72706544]\n",
      "Training epoch#:  44\n",
      "errors (SSE):  [1.68194966]\n",
      "Training epoch#:  45\n",
      "errors (SSE):  [1.64172165]\n",
      "Training epoch#:  46\n",
      "errors (SSE):  [1.60933063]\n",
      "Training epoch#:  47\n",
      "errors (SSE):  [1.58474804]\n",
      "Training epoch#:  48\n",
      "errors (SSE):  [1.57173038]\n",
      "Training epoch#:  49\n",
      "errors (SSE):  [1.56644219]\n",
      "Shuffling data...\n",
      "Training epoch#:  0\n",
      "errors (SSE):  [850.43266132]\n",
      "Training epoch#:  1\n",
      "errors (SSE):  [471.53171769]\n",
      "Training epoch#:  2\n",
      "errors (SSE):  [306.36221149]\n",
      "Training epoch#:  3\n",
      "errors (SSE):  [187.89350067]\n",
      "Training epoch#:  4\n",
      "errors (SSE):  [115.01031339]\n",
      "Training epoch#:  5\n",
      "errors (SSE):  [70.7851813]\n",
      "Training epoch#:  6\n",
      "errors (SSE):  [44.07186163]\n",
      "Training epoch#:  7\n",
      "errors (SSE):  [29.50363297]\n",
      "Training epoch#:  8\n",
      "errors (SSE):  [21.15409672]\n",
      "Training epoch#:  9\n",
      "errors (SSE):  [15.72101026]\n",
      "Training epoch#:  10\n",
      "errors (SSE):  [12.27149697]\n",
      "Training epoch#:  11\n",
      "errors (SSE):  [10.05574064]\n",
      "Training epoch#:  12\n",
      "errors (SSE):  [8.51735783]\n",
      "Training epoch#:  13\n",
      "errors (SSE):  [7.42369283]\n",
      "Training epoch#:  14\n",
      "errors (SSE):  [6.62120503]\n",
      "Training epoch#:  15\n",
      "errors (SSE):  [5.9965386]\n",
      "Training epoch#:  16\n",
      "errors (SSE):  [5.4843103]\n",
      "Training epoch#:  17\n",
      "errors (SSE):  [5.06392878]\n",
      "Training epoch#:  18\n",
      "errors (SSE):  [4.70326945]\n",
      "Training epoch#:  19\n",
      "errors (SSE):  [4.36892504]\n",
      "Training epoch#:  20\n",
      "errors (SSE):  [4.07571431]\n",
      "Training epoch#:  21\n",
      "errors (SSE):  [3.81540833]\n",
      "Training epoch#:  22\n",
      "errors (SSE):  [3.59282311]\n",
      "Training epoch#:  23\n",
      "errors (SSE):  [3.38833552]\n",
      "Training epoch#:  24\n",
      "errors (SSE):  [3.20198819]\n",
      "Training epoch#:  25\n",
      "errors (SSE):  [3.04322647]\n",
      "Training epoch#:  26\n",
      "errors (SSE):  [2.89728326]\n",
      "Training epoch#:  27\n",
      "errors (SSE):  [2.76205476]\n",
      "Training epoch#:  28\n",
      "errors (SSE):  [2.63960204]\n",
      "Training epoch#:  29\n",
      "errors (SSE):  [2.52839276]\n",
      "Training epoch#:  30\n",
      "errors (SSE):  [2.4235664]\n",
      "Training epoch#:  31\n",
      "errors (SSE):  [2.32565902]\n",
      "Training epoch#:  32\n",
      "errors (SSE):  [2.24004611]\n",
      "Training epoch#:  33\n",
      "errors (SSE):  [2.16258004]\n",
      "Training epoch#:  34\n",
      "errors (SSE):  [2.09233481]\n",
      "Training epoch#:  35\n",
      "errors (SSE):  [2.02867052]\n",
      "Training epoch#:  36\n",
      "errors (SSE):  [1.97067226]\n",
      "Training epoch#:  37\n",
      "errors (SSE):  [1.91754778]\n",
      "Training epoch#:  38\n",
      "errors (SSE):  [1.86865635]\n",
      "Training epoch#:  39\n",
      "errors (SSE):  [1.82326724]\n",
      "Training epoch#:  40\n",
      "errors (SSE):  [1.78074854]\n",
      "Training epoch#:  41\n",
      "errors (SSE):  [1.74047471]\n",
      "Training epoch#:  42\n",
      "errors (SSE):  [1.70185624]\n",
      "Training epoch#:  43\n",
      "errors (SSE):  [1.66461937]\n",
      "Training epoch#:  44\n",
      "errors (SSE):  [1.62892312]\n",
      "Training epoch#:  45\n",
      "errors (SSE):  [1.59485624]\n",
      "Training epoch#:  46\n",
      "errors (SSE):  [1.56248375]\n",
      "Training epoch#:  47\n",
      "errors (SSE):  [1.5318893]\n",
      "Training epoch#:  48\n",
      "errors (SSE):  [1.50309578]\n",
      "Training epoch#:  49\n",
      "errors (SSE):  [1.4759164]\n",
      "Shuffling data...\n",
      "Training epoch#:  0\n",
      "errors (SSE):  [963.70660144]\n",
      "Training epoch#:  1\n",
      "errors (SSE):  [561.42619168]\n",
      "Training epoch#:  2\n",
      "errors (SSE):  [331.29249516]\n",
      "Training epoch#:  3\n",
      "errors (SSE):  [189.38406149]\n",
      "Training epoch#:  4\n",
      "errors (SSE):  [103.99294101]\n",
      "Training epoch#:  5\n",
      "errors (SSE):  [61.17827954]\n",
      "Training epoch#:  6\n",
      "errors (SSE):  [36.23695905]\n",
      "Training epoch#:  7\n",
      "errors (SSE):  [23.03316255]\n",
      "Training epoch#:  8\n",
      "errors (SSE):  [16.60117884]\n",
      "Training epoch#:  9\n",
      "errors (SSE):  [13.12342763]\n",
      "Training epoch#:  10\n",
      "errors (SSE):  [10.79497068]\n",
      "Training epoch#:  11\n",
      "errors (SSE):  [9.03759519]\n",
      "Training epoch#:  12\n",
      "errors (SSE):  [7.67218652]\n",
      "Training epoch#:  13\n",
      "errors (SSE):  [6.62445867]\n",
      "Training epoch#:  14\n",
      "errors (SSE):  [5.7833183]\n",
      "Training epoch#:  15\n",
      "errors (SSE):  [5.05468348]\n",
      "Training epoch#:  16\n"
     ]
    },
    {
     "name": "stdout",
     "output_type": "stream",
     "text": [
      "errors (SSE):  [4.43415822]\n",
      "Training epoch#:  17\n",
      "errors (SSE):  [3.95519437]\n",
      "Training epoch#:  18\n",
      "errors (SSE):  [3.57347113]\n",
      "Training epoch#:  19\n",
      "errors (SSE):  [3.2672359]\n",
      "Training epoch#:  20\n",
      "errors (SSE):  [3.02369596]\n",
      "Training epoch#:  21\n",
      "errors (SSE):  [2.82657414]\n",
      "Training epoch#:  22\n",
      "errors (SSE):  [2.65760308]\n",
      "Training epoch#:  23\n",
      "errors (SSE):  [2.51040382]\n",
      "Training epoch#:  24\n",
      "errors (SSE):  [2.38362446]\n",
      "Training epoch#:  25\n",
      "errors (SSE):  [2.27150248]\n",
      "Training epoch#:  26\n",
      "errors (SSE):  [2.17187668]\n",
      "Training epoch#:  27\n",
      "errors (SSE):  [2.08314674]\n",
      "Training epoch#:  28\n",
      "errors (SSE):  [2.00254263]\n",
      "Training epoch#:  29\n",
      "errors (SSE):  [1.92753068]\n",
      "Training epoch#:  30\n",
      "errors (SSE):  [1.85655879]\n",
      "Training epoch#:  31\n",
      "errors (SSE):  [1.78824101]\n",
      "Training epoch#:  32\n",
      "errors (SSE):  [1.72278649]\n",
      "Training epoch#:  33\n",
      "errors (SSE):  [1.66331178]\n",
      "Training epoch#:  34\n",
      "errors (SSE):  [1.60951937]\n",
      "Training epoch#:  35\n",
      "errors (SSE):  [1.56040866]\n",
      "Training epoch#:  36\n",
      "errors (SSE):  [1.51510151]\n",
      "Training epoch#:  37\n",
      "errors (SSE):  [1.47279216]\n",
      "Training epoch#:  38\n",
      "errors (SSE):  [1.43278217]\n",
      "Training epoch#:  39\n",
      "errors (SSE):  [1.39469105]\n",
      "Training epoch#:  40\n",
      "errors (SSE):  [1.35858925]\n",
      "Training epoch#:  41\n",
      "errors (SSE):  [1.32464013]\n",
      "Training epoch#:  42\n",
      "errors (SSE):  [1.29197232]\n",
      "Training epoch#:  43\n",
      "errors (SSE):  [1.25917438]\n",
      "Training epoch#:  44\n",
      "errors (SSE):  [1.22546409]\n",
      "Training epoch#:  45\n",
      "errors (SSE):  [1.19587967]\n",
      "Training epoch#:  46\n",
      "errors (SSE):  [1.16992864]\n",
      "Training epoch#:  47\n",
      "errors (SSE):  [1.14555597]\n",
      "Training epoch#:  48\n",
      "errors (SSE):  [1.1226512]\n",
      "Training epoch#:  49\n",
      "errors (SSE):  [1.10066317]\n",
      "Shuffling data...\n",
      "Training epoch#:  0\n",
      "errors (SSE):  [939.63709854]\n",
      "Training epoch#:  1\n",
      "errors (SSE):  [565.3738116]\n",
      "Training epoch#:  2\n",
      "errors (SSE):  [390.96671564]\n",
      "Training epoch#:  3\n",
      "errors (SSE):  [257.81129255]\n",
      "Training epoch#:  4\n",
      "errors (SSE):  [166.45184152]\n",
      "Training epoch#:  5\n",
      "errors (SSE):  [107.04771273]\n",
      "Training epoch#:  6\n",
      "errors (SSE):  [69.02286255]\n",
      "Training epoch#:  7\n",
      "errors (SSE):  [46.35014596]\n",
      "Training epoch#:  8\n",
      "errors (SSE):  [31.88774181]\n",
      "Training epoch#:  9\n",
      "errors (SSE):  [23.39079032]\n",
      "Training epoch#:  10\n",
      "errors (SSE):  [17.61198205]\n",
      "Training epoch#:  11\n",
      "errors (SSE):  [13.52101904]\n",
      "Training epoch#:  12\n",
      "errors (SSE):  [10.75762522]\n",
      "Training epoch#:  13\n",
      "errors (SSE):  [8.96638155]\n",
      "Training epoch#:  14\n",
      "errors (SSE):  [7.761704]\n",
      "Training epoch#:  15\n",
      "errors (SSE):  [6.85521475]\n",
      "Training epoch#:  16\n",
      "errors (SSE):  [6.10833174]\n",
      "Training epoch#:  17\n",
      "errors (SSE):  [5.49384214]\n",
      "Training epoch#:  18\n",
      "errors (SSE):  [5.01296778]\n",
      "Training epoch#:  19\n",
      "errors (SSE):  [4.61710206]\n",
      "Training epoch#:  20\n",
      "errors (SSE):  [4.30482247]\n",
      "Training epoch#:  21\n",
      "errors (SSE):  [4.01598875]\n",
      "Training epoch#:  22\n",
      "errors (SSE):  [3.76160716]\n",
      "Training epoch#:  23\n",
      "errors (SSE):  [3.5445548]\n",
      "Training epoch#:  24\n",
      "errors (SSE):  [3.37543308]\n",
      "Training epoch#:  25\n",
      "errors (SSE):  [3.24790314]\n",
      "Training epoch#:  26\n",
      "errors (SSE):  [3.07862891]\n",
      "Training epoch#:  27\n",
      "errors (SSE):  [2.90896611]\n",
      "Training epoch#:  28\n",
      "errors (SSE):  [2.77425627]\n",
      "Training epoch#:  29\n",
      "errors (SSE):  [2.64884139]\n",
      "Training epoch#:  30\n",
      "errors (SSE):  [2.54976065]\n",
      "Training epoch#:  31\n",
      "errors (SSE):  [2.46331325]\n",
      "Training epoch#:  32\n",
      "errors (SSE):  [2.38543441]\n",
      "Training epoch#:  33\n",
      "errors (SSE):  [2.31590162]\n",
      "Training epoch#:  34\n",
      "errors (SSE):  [2.25426671]\n",
      "Training epoch#:  35\n",
      "errors (SSE):  [2.19719292]\n",
      "Training epoch#:  36\n",
      "errors (SSE):  [2.13915471]\n",
      "Training epoch#:  37\n",
      "errors (SSE):  [2.08109449]\n",
      "Training epoch#:  38\n",
      "errors (SSE):  [2.02310805]\n",
      "Training epoch#:  39\n",
      "errors (SSE):  [1.96552164]\n",
      "Training epoch#:  40\n",
      "errors (SSE):  [1.90959468]\n",
      "Training epoch#:  41\n",
      "errors (SSE):  [1.85466486]\n",
      "Training epoch#:  42\n",
      "errors (SSE):  [1.8022963]\n",
      "Training epoch#:  43\n",
      "errors (SSE):  [1.75429358]\n",
      "Training epoch#:  44\n",
      "errors (SSE):  [1.7094992]\n",
      "Training epoch#:  45\n",
      "errors (SSE):  [1.66776953]\n",
      "Training epoch#:  46\n",
      "errors (SSE):  [1.6281372]\n",
      "Training epoch#:  47\n",
      "errors (SSE):  [1.5883794]\n",
      "Training epoch#:  48\n",
      "errors (SSE):  [1.54667013]\n",
      "Training epoch#:  49\n",
      "errors (SSE):  [1.50157347]\n",
      "[90.64999999999999, 84.13000000000001, 84.17, 84.28, 81.28999999999999]\n"
     ]
    }
   ],
   "source": [
    "ann_results = []\n",
    "\n",
    "rotations = [20, 40, 50, 90, 120]\n",
    "\n",
    "for num in rotations:\n",
    "    ## Clear and generate data again\n",
    "    mini_training_data = ann_pre.generate_mini_data(train_data_list, train_amount)\n",
    "\n",
    "    X_train, y_train = ann_pre.preprocess_data(mini_training_data)\n",
    "    X_test, y_test = ann_pre.preprocess_data(test_data_list)\n",
    "    \n",
    "    model = a_nn.fit_augmented_model(X_train, y_train, X_test, y_test, train_amount, num)\n",
    "     \n",
    "    ann_results.append(model)\n",
    "\n",
    "print(ann_results)"
   ]
  },
  {
   "cell_type": "markdown",
   "metadata": {},
   "source": [
    "# kNN"
   ]
  },
  {
   "cell_type": "markdown",
   "metadata": {},
   "source": [
    "## Data Preprocessing"
   ]
  },
  {
   "cell_type": "code",
   "execution_count": 18,
   "metadata": {},
   "outputs": [
    {
     "name": "stdout",
     "output_type": "stream",
     "text": [
      "1500\n",
      "500\n"
     ]
    }
   ],
   "source": [
    "mini_training_data = knn_pre.generate_mini_data(train_data_list, train_amount)\n",
    "mini_testing_data = knn_pre.generate_mini_data(test_data_list, 500) # reduce testing data to increase kNN testing speed \n",
    "\n",
    "X_train, y_train = knn_pre.preprocess_data(mini_training_data)\n",
    "X_test, y_test = knn_pre.preprocess_data(mini_testing_data)\n",
    "\n",
    "print(len(X_train))\n",
    "print(len(X_test))"
   ]
  },
  {
   "cell_type": "markdown",
   "metadata": {},
   "source": [
    "## Image Augmentation\n",
    "\n",
    "We create another instance of the AugmentImages class for the k-NN."
   ]
  },
  {
   "cell_type": "code",
   "execution_count": 19,
   "metadata": {},
   "outputs": [],
   "source": [
    "a_knn = AugmentImages(is_neural=False)"
   ]
  },
  {
   "cell_type": "markdown",
   "metadata": {},
   "source": [
    "We apply image rotation to the training data."
   ]
  },
  {
   "cell_type": "code",
   "execution_count": 20,
   "metadata": {},
   "outputs": [],
   "source": [
    "training_data = a_knn.augment_data(X_train, y_train, rotation=20)"
   ]
  },
  {
   "cell_type": "code",
   "execution_count": 21,
   "metadata": {},
   "outputs": [
    {
     "name": "stdout",
     "output_type": "stream",
     "text": [
      "1500\n"
     ]
    }
   ],
   "source": [
    "images = training_data['images']\n",
    "labels = training_data['labels']\n",
    "\n",
    "for num in range(0, len(images)):\n",
    "    X_train.append(images[num])\n",
    "\n",
    "for num in range(0, len(labels)):\n",
    "    y_train.append(labels[num])\n",
    "\n",
    "X_train, y_train = a_knn.shuffle_data(X_train, y_train, train_amount)\n",
    "    \n",
    "print(len(X_train))"
   ]
  },
  {
   "cell_type": "markdown",
   "metadata": {},
   "source": [
    "## Visualize change in images"
   ]
  },
  {
   "cell_type": "code",
   "execution_count": 22,
   "metadata": {},
   "outputs": [
    {
     "data": {
      "image/png": "[encoded data removed]",
      "text/plain": [
       "<Figure size 432x288 with 9 Axes>"
      ]
     },
     "metadata": {
      "needs_background": "light"
     },
     "output_type": "display_data"
    }
   ],
   "source": [
    "for i in range(0,9):\n",
    "    val = random.randint(0, len(X_train))\n",
    "    plt.subplot(330 + 1 + i)\n",
    "    plt.imshow(X_train[val].flatten().reshape((28,28)), cmap='Greys', interpolation='None')\n",
    "plt.show()"
   ]
  },
  {
   "cell_type": "markdown",
   "metadata": {},
   "source": [
    "## Test model accuracy"
   ]
  },
  {
   "cell_type": "markdown",
   "metadata": {},
   "source": [
    "We use the optimal hyperparameters obtained from Task2.\n",
    "\n",
    "- k = 3\n",
    "- Weighted = True"
   ]
  },
  {
   "cell_type": "code",
   "execution_count": 23,
   "metadata": {},
   "outputs": [
    {
     "name": "stdout",
     "output_type": "stream",
     "text": [
      "Testing...\n",
      "Iteration# 200\n",
      "Iteration# 400\n",
      "Testing complete!\n",
      "--- Training time in seconds: 9.139642715454102 ---\n",
      "kNN Accuracy on test set is:  91.0\n"
     ]
    }
   ],
   "source": [
    "knn = kNN(X_train, y_train, k=3, weighted=True, sim=cosine_similarity)\n",
    "\n",
    "start_time = time.time()\n",
    "knn.test(X_test, y_test)\n",
    "print('--- Training time in seconds: %s ---' % (time.time() - start_time))\n",
    "\n",
    "print(\"kNN Accuracy on test set is: \", knn.evaluate(knn.results))"
   ]
  },
  {
   "cell_type": "markdown",
   "metadata": {},
   "source": [
    "## Test kNN accuracy on multiple rotations"
   ]
  },
  {
   "cell_type": "code",
   "execution_count": 24,
   "metadata": {},
   "outputs": [
    {
     "name": "stdout",
     "output_type": "stream",
     "text": [
      "Shuffling data...\n",
      "Testing...\n",
      "Iteration# 200\n",
      "Iteration# 400\n",
      "Testing complete!\n",
      "Shuffling data...\n",
      "Testing...\n",
      "Iteration# 200\n",
      "Iteration# 400\n",
      "Testing complete!\n",
      "Shuffling data...\n",
      "Testing...\n",
      "Iteration# 200\n",
      "Iteration# 400\n",
      "Testing complete!\n",
      "Shuffling data...\n",
      "Testing...\n",
      "Iteration# 200\n",
      "Iteration# 400\n",
      "Testing complete!\n",
      "Shuffling data...\n",
      "Testing...\n",
      "Iteration# 200\n",
      "Iteration# 400\n",
      "Testing complete!\n",
      "[89.4, 81.39999999999999, 85.0, 86.4, 83.39999999999999]\n"
     ]
    }
   ],
   "source": [
    "knn_results = []\n",
    "\n",
    "rotations = [20, 40, 50, 90, 120]\n",
    "\n",
    "for num in rotations:\n",
    "    ## Clear and generate data again\n",
    "    mini_training_data = knn_pre.generate_mini_data(train_data_list, train_amount)\n",
    "\n",
    "    X_train, y_train = knn_pre.preprocess_data(mini_training_data)\n",
    "    X_test, y_test = knn_pre.preprocess_data(mini_testing_data)\n",
    "    \n",
    "    model = a_knn.fit_augmented_model(X_train, y_train, X_test, y_test, train_amount, num)\n",
    "    knn_results.append(model)\n",
    "\n",
    "print(knn_results)"
   ]
  },
  {
   "cell_type": "markdown",
   "metadata": {},
   "source": [
    "## Visualize difference in performance on increasing rotations between ANN and k-NN"
   ]
  },
  {
   "cell_type": "code",
   "execution_count": 26,
   "metadata": {},
   "outputs": [
    {
     "name": "stdout",
     "output_type": "stream",
     "text": [
      "[90.64999999999999, 84.13000000000001, 84.17, 84.28, 81.28999999999999]\n",
      "[89.4, 81.39999999999999, 85.0, 86.4, 83.39999999999999]\n"
     ]
    },
    {
     "data": {
      "image/png": "[encoded data removed]",
      "text/plain": [
       "<Figure size 432x288 with 1 Axes>"
      ]
     },
     "metadata": {
      "needs_background": "light"
     },
     "output_type": "display_data"
    }
   ],
   "source": [
    "N = len(rotations)\n",
    "ind = np.arange(N)\n",
    "\n",
    "performance1 = ann_results\n",
    "performance2 = knn_results\n",
    "\n",
    "width = 0.35\n",
    "\n",
    "print(performance1)\n",
    "print(performance2)\n",
    "\n",
    "plt.bar(ind, performance1, width, label=\"ANN\", color='blue')\n",
    "plt.bar(ind + width, performance2, width, label=\"kNN\", color='orange')\n",
    "\n",
    "plt.ylabel('Accuracy')\n",
    "plt.xlabel('Rotation angle')\n",
    "\n",
    "plt.xticks(ind + width / 2, rotations)\n",
    "plt.legend(loc='lower right')\n",
    "\n",
    "#plt.savefig(\"rotation.png\", dpi=300)\n",
    "plt.show()"
   ]
  },
  {
   "cell_type": "code",
   "execution_count": null,
   "metadata": {},
   "outputs": [],
   "source": []
  }
 ],
 "metadata": {
  "kernelspec": {
   "display_name": "Python 3",
   "language": "python",
   "name": "python3"
  },
  "language_info": {
   "codemirror_mode": {
    "name": "ipython",
    "version": 3
   },
   "file_extension": ".py",
   "mimetype": "text/x-python",
   "name": "python",
   "nbconvert_exporter": "python",
   "pygments_lexer": "ipython3",
   "version": "3.7.3"
  }
 },
 "nbformat": 4,
 "nbformat_minor": 2
}
